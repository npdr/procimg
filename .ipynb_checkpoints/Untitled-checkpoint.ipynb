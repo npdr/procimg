{
 "cells": [
  {
   "cell_type": "code",
   "execution_count": 13,
   "id": "c243bf89",
   "metadata": {},
   "outputs": [],
   "source": [
    "import numpy as np\n",
    "import imageio\n",
    "import matplotlib.pyplot as plt"
   ]
  },
  {
   "cell_type": "code",
   "execution_count": 15,
   "id": "e5c3781f",
   "metadata": {},
   "outputs": [
    {
     "name": "stdout",
     "output_type": "stream",
     "text": [
      "erre\n",
      "1\n",
      "2\n",
      "3\n",
      "4\n",
      "5\n",
      "6\n"
     ]
    }
   ],
   "source": [
    "r = str(input())\n",
    "C = int(input())\n",
    "F = int(input())\n",
    "Q = int(input())\n",
    "N = int(input())\n",
    "B = int(input())\n",
    "S = int(input())"
   ]
  },
  {
   "cell_type": "code",
   "execution_count": 24,
   "id": "6983c876",
   "metadata": {},
   "outputs": [],
   "source": [
    "def function_1(x,y):\n",
    "    return (x*y + 2*y)\n",
    "\n",
    "def function_2(x,y):\n",
    "    return abs(np.cos(x/Q) + 2*np.sin(y/Q))\n",
    "\n",
    "def function_3(x,y):\n",
    "    return abs(3*(x/Q) - np.cbrt(y/Q))\n",
    "    \n",
    "def function_4(x,y):\n",
    "    return 1\n",
    "\n",
    "def function_5(x,y):\n",
    "    return 1"
   ]
  },
  {
   "cell_type": "code",
   "execution_count": 25,
   "id": "26724b07",
   "metadata": {},
   "outputs": [
    {
     "data": {
      "text/plain": [
       "0.1264195352637011"
      ]
     },
     "execution_count": 25,
     "metadata": {},
     "output_type": "execute_result"
    }
   ],
   "source": [
    "function_3(1, 2)"
   ]
  },
  {
   "cell_type": "code",
   "execution_count": null,
   "id": "31c586b0",
   "metadata": {},
   "outputs": [],
   "source": []
  }
 ],
 "metadata": {
  "kernelspec": {
   "display_name": "Python 3",
   "language": "python",
   "name": "python3"
  },
  "language_info": {
   "codemirror_mode": {
    "name": "ipython",
    "version": 3
   },
   "file_extension": ".py",
   "mimetype": "text/x-python",
   "name": "python",
   "nbconvert_exporter": "python",
   "pygments_lexer": "ipython3",
   "version": "3.8.5"
  }
 },
 "nbformat": 4,
 "nbformat_minor": 5
}
