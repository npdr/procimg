{
 "cells": [
  {
   "cell_type": "code",
   "execution_count": 23,
   "id": "3ee5ad6f",
   "metadata": {},
   "outputs": [],
   "source": [
    "# Trabalho 1 - Geração de imagens\n",
    "# SCC0251 - Image Processing (01/2021)\n",
    "# Fabiana Dalacqua - \n",
    "# Pedro Henrique Nieuwenhoff - 10377729\n",
    "import numpy as np\n",
    "import numpy.random\n",
    "import imageio\n",
    "import matplotlib.pyplot as plt\n",
    "np.set_printoptions(suppress=True)"
   ]
  },
  {
   "cell_type": "code",
   "execution_count": 10,
   "id": "afcd3c3c",
   "metadata": {},
   "outputs": [
    {
     "name": "stdout",
     "output_type": "stream",
     "text": [
      "ex1.npy\n",
      "512\n",
      "1\n",
      "2\n",
      "256\n",
      "4\n",
      "1\n"
     ]
    }
   ],
   "source": [
    "r = str(input()) # nome do arquivo contendo a imagem de referência\n",
    "C = int(input()) # tamanho lateral da imagem sintetizada C(assuma que a imagem é quadrada e que seu tamanho é CxC)\n",
    "F = int(input()) # a função F que será usada para geração\n",
    "Q = int(input()) # o parâmetro Q, usado para geração de imagens\n",
    "N = int(input()) # o tamanho lateralNda imagem amostrada, onde N<=C\n",
    "B = int(input()) # número de bits por pixel B, com 1<=B<=8\n",
    "S = int(input()) # seed S para ser usado com as funções aleatórias"
   ]
  },
  {
   "cell_type": "code",
   "execution_count": null,
   "id": "12c83d2e",
   "metadata": {},
   "outputs": [],
   "source": [
    "# definindo a seed das funções aleatórias\n",
    "np.random.seed(S)"
   ]
  },
  {
   "cell_type": "code",
   "execution_count": 14,
   "id": "7f54b351",
   "metadata": {},
   "outputs": [],
   "source": [
    "# definição das funções geradoras das imagens\n",
    "def function_1(x,y):\n",
    "    return (x*y + 2*y)\n",
    "\n",
    "def function_2(x,y):\n",
    "    return abs(np.cos(x/Q) + 2*np.sin(y/Q))\n",
    "\n",
    "def function_3(x,y):\n",
    "    return abs(3*(x/Q) - np.cbrt(y/Q))\n",
    "    \n",
    "def function_4():\n",
    "    return np.random.rand()\n",
    "\n",
    "def function_5(x,y):\n",
    "    return 1"
   ]
  },
  {
   "cell_type": "code",
   "execution_count": 19,
   "id": "e228026d",
   "metadata": {},
   "outputs": [],
   "source": [
    "r_array = np.load(r) # carrega a imagem de referência\n",
    "img_sint = np.zeros((C,C), float) # imagem sintetizada inicial"
   ]
  },
  {
   "cell_type": "code",
   "execution_count": 33,
   "id": "73ca8141",
   "metadata": {},
   "outputs": [
    {
     "data": {
      "text/plain": [
       "<matplotlib.image.AxesImage at 0x7f62c3d56b80>"
      ]
     },
     "execution_count": 33,
     "metadata": {},
     "output_type": "execute_result"
    },
    {
     "data": {
      "image/png": "[encoded data removed]",
      "text/plain": [
       "<Figure size 432x288 with 1 Axes>"
      ]
     },
     "metadata": {
      "needs_background": "light"
     },
     "output_type": "display_data"
    }
   ],
   "source": [
    "if F == 1:\n",
    "    for x in range(C):\n",
    "        for y in range(C):\n",
    "            img_sint[x,y] = function_1(x,y)\n",
    "#elif F == 2:\n",
    "\n",
    "#elif F == 3:\n",
    "\n",
    "#elif F == 4:\n",
    "    \n",
    "#else:\n",
    "\n",
    "plt.imshow(img_sint, cmap=\"gray\")\n",
    "#plt.imshow(r_array, cmap=\"gray\")\n",
    "    \n"
   ]
  },
  {
   "cell_type": "code",
   "execution_count": null,
   "id": "6866a933",
   "metadata": {},
   "outputs": [],
   "source": []
  }
 ],
 "metadata": {
  "kernelspec": {
   "display_name": "Python 3",
   "language": "python",
   "name": "python3"
  },
  "language_info": {
   "codemirror_mode": {
    "name": "ipython",
    "version": 3
   },
   "file_extension": ".py",
   "mimetype": "text/x-python",
   "name": "python",
   "nbconvert_exporter": "python",
   "pygments_lexer": "ipython3",
   "version": "3.8.5"
  }
 },
 "nbformat": 4,
 "nbformat_minor": 5
}
