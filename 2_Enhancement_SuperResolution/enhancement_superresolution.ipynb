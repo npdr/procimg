{
 "cells": [
  {
   "cell_type": "code",
   "execution_count": null,
   "id": "78d1ebf2",
   "metadata": {},
   "outputs": [],
   "source": [
    "# Trabalho 2 - Realce e Superresolução\n",
    "# SCC0251 - Image Processing (01/2021)\n",
    "# Fabiana Dalacqua Mendes - 9894536\n",
    "# Pedro Henrique Nieuwenhoff - 10377729\n",
    "import numpy as np\n",
    "import random\n",
    "import math"
   ]
  },
  {
   "cell_type": "code",
   "execution_count": null,
   "id": "02cc260f",
   "metadata": {},
   "outputs": [],
   "source": [
    "def enhancement_superresolution():\n",
    "    print()"
   ]
  },
  {
   "cell_type": "code",
   "execution_count": null,
   "id": "8bc7f078",
   "metadata": {},
   "outputs": [],
   "source": [
    "if __name__ == \"__main__\":\n",
    "    enhancement_superresolution()"
   ]
  }
 ],
 "metadata": {
  "kernelspec": {
   "display_name": "Python 3",
   "language": "python",
   "name": "python3"
  },
  "language_info": {
   "codemirror_mode": {
    "name": "ipython",
    "version": 3
   },
   "file_extension": ".py",
   "mimetype": "text/x-python",
   "name": "python",
   "nbconvert_exporter": "python",
   "pygments_lexer": "ipython3",
   "version": "3.9.4"
  }
 },
 "nbformat": 4,
 "nbformat_minor": 5
}
