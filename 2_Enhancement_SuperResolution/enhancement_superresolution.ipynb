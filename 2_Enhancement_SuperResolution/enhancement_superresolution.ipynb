{
 "cells": [
  {
   "cell_type": "code",
   "execution_count": null,
   "id": "5a17145e",
   "metadata": {},
   "outputs": [],
   "source": [
    "# Trabalho 2 - Realce e Superresolução\n",
    "# SCC0251 - Image Processing (01/2021)\n",
    "# Fabiana Dalacqua Mendes - 9894536\n",
    "# Pedro Henrique Nieuwenhoff - 10377729\n",
    "import numpy as np\n",
    "import imageio"
   ]
  },
  {
   "cell_type": "code",
   "execution_count": null,
   "id": "ec0218f1",
   "metadata": {},
   "outputs": [],
   "source": [
    "def load_images(name_base):\n",
    "    \"\"\"\n",
    "    This function loads and returns a list of 4 images \n",
    "    witch name starts with the name base.\n",
    "    \n",
    "    Parameters\n",
    "    ----------\n",
    "    name_base : string\n",
    "        The name base of the low resolution images to be loaded\n",
    "    \"\"\"\n",
    "    L = []\n",
    "    return L"
   ]
  },
  {
   "cell_type": "code",
   "execution_count": null,
   "id": "ff777035",
   "metadata": {},
   "outputs": [],
   "source": [
    "def enhancement(L,F,gamma):\n",
    "    \"\"\"\n",
    "    This function apply enhancement method in the list of\n",
    "    low resolution images.\n",
    "    \n",
    "    Parameters\n",
    "    ----------\n",
    "    L : list\n",
    "       The list of size 4 containing the low quality images\n",
    "    F : int\n",
    "        The enhancement function number that must be between 0 and 3\n",
    "    gamma : int\n",
    "        The parameter used in ehancement function number 3\n",
    "    \"\"\"\n",
    "    \n",
    "    def individual_cumulative_histogram():\n",
    "        print(\"Individual Cumulative Histogram\")\n",
    "    \n",
    "    def cumulative_histogram_set():\n",
    "        print(\"Cumulative Histogram Set\")\n",
    "    \n",
    "    def gamma_correction_function(gamma):\n",
    "        print(\"Gamma Correction Function\")\n",
    "        \n",
    "    if F == 1:\n",
    "        L_enhan = individual_cumulative_histogram()\n",
    "    elif F == 2:\n",
    "        L_enhan = cumulative_histogram_set()\n",
    "    elif F == 3:\n",
    "        L_enhan = gamma_correction_function(gamma)\n",
    "    else: # no enhancement\n",
    "        L_enhan = L\n",
    "        \n",
    "    return L_enhan"
   ]
  },
  {
   "cell_type": "code",
   "execution_count": null,
   "id": "e5665534",
   "metadata": {},
   "outputs": [],
   "source": [
    "def superresolution(L):\n",
    "    \"\"\"\n",
    "    This function combines the images in the list using \n",
    "    a composition method to return a high reolution image.\n",
    "    \n",
    "    Parameters\n",
    "    ----------\n",
    "    L : list\n",
    "       The list of size 4 containing the low quality images \n",
    "    \"\"\""
   ]
  },
  {
   "cell_type": "code",
   "execution_count": null,
   "id": "7a2fe5d8",
   "metadata": {},
   "outputs": [],
   "source": [
    "def compare_to_reference(img,ref_filename):\n",
    "    \"\"\"\n",
    "    This function compare a image to a reference through\n",
    "    Root Mean Squared Error (RMSE). \n",
    "    The higher the SRE, the greater the difference between\n",
    "    the images.\n",
    "    \n",
    "    Parameters\n",
    "    ----------\n",
    "    img : array\n",
    "        The source image array\n",
    "    ref_filename : string\n",
    "        The reference image filename\n",
    "    \"\"\"\n",
    "    reference = np.load(ref_filename) # loading image reference from file\n",
    "    rmse = 0\n",
    "    return round(rmse,4) # rounding to 4 decimal places"
   ]
  },
  {
   "cell_type": "code",
   "execution_count": null,
   "id": "6cda6f84",
   "metadata": {},
   "outputs": [],
   "source": [
    "def enhancement_superresolution():\n",
    "    \"\"\"\n",
    "    This function asks for some user inputs to read low resolution\n",
    "    images from files, apply enhancement and superresolution methods \n",
    "    to increase resolution and, finally, compare to a high resolution\n",
    "    image read from a file, printing the result.\n",
    "    \n",
    "    Inputs (in this order)\n",
    "    ----------------------\n",
    "    imglow : string\n",
    "        The name base of the low resolution images\n",
    "    imghigh : string\n",
    "        The high resolution image filename\n",
    "    F : int\n",
    "        The enhancement function number that must be between 0 and 3\n",
    "    gamma : int\n",
    "        The parameter used in ehancement function number 3\n",
    "    \"\"\"\n",
    "    imglow = str(input().rstrip())\n",
    "    imghigh = str(input().rstrip())\n",
    "    F = int(input())\n",
    "    gamma = int(input())\n",
    "    \n",
    "    L = load_images(imglow)\n",
    "    L = enhancement(L,F,gamma)\n",
    "    H = superresolution(L)\n",
    "    print(compare_to_reference(H,imghigh))"
   ]
  },
  {
   "cell_type": "code",
   "execution_count": null,
   "id": "27ffd7f0",
   "metadata": {},
   "outputs": [],
   "source": [
    "if __name__ == \"__main__\":\n",
    "    enhancement_superresolution()"
   ]
  }
 ],
 "metadata": {
  "kernelspec": {
   "display_name": "Python 3",
   "language": "python",
   "name": "python3"
  },
  "language_info": {
   "codemirror_mode": {
    "name": "ipython",
    "version": 3
   },
   "file_extension": ".py",
   "mimetype": "text/x-python",
   "name": "python",
   "nbconvert_exporter": "python",
   "pygments_lexer": "ipython3",
   "version": "3.9.4"
  }
 },
 "nbformat": 4,
 "nbformat_minor": 5
}
