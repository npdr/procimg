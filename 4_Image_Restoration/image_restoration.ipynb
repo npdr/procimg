{
 "cells": [
  {
   "cell_type": "code",
   "execution_count": null,
   "id": "5a17145e",
   "metadata": {},
   "outputs": [],
   "source": [
    "# Trabalho 3 - Image Restoration\n",
    "# SCC0251 - Image Processing (01/2021)\n",
    "# Fabiana Dalacqua Mendes - 9894536\n",
    "# Pedro Henrique Nieuwenhoff - 10377729\n",
    "import numpy as np\n",
    "import imageio\n",
    "import math"
   ]
  },
  {
   "cell_type": "code",
   "execution_count": null,
   "id": "ff777035",
   "metadata": {},
   "outputs": [],
   "source": [
    "def restore(img,F,gamma):\n",
    "    \"\"\"\n",
    "    This function ...\n",
    "    \n",
    "    Parameters\n",
    "    ----------\n",
    "    img : uint8 array\n",
    "        The degraded image array\n",
    "    F : int\n",
    "        TThe type of filter to perform image restoration (1 (denoising) or 2 (constrained l.s.))\n",
    "    gamma : int\n",
    "        The parameter used by either filter\n",
    "    \"\"\"\n",
    "    \n",
    "    def adaptive_denoising(coord,n,denoise):\n",
    "        res_img = img\n",
    "        return res_img\n",
    "        \n",
    "    def constrained_least_squares(n,sigma):\n",
    "        res_img = img\n",
    "        return res_img\n",
    "   \n",
    "    if F == 1: \n",
    "         # getting coordinates of a flat rectangle in the image\n",
    "        coord = np.array([float(xi) for xi in input().split()])\n",
    "        n = int(input()) # getting the size of the filter\n",
    "        denoise = str(input().rstrip()) # getting the denoise mode (average or robust)\n",
    "        \n",
    "        return adaptive_denoising(coord,n,denoise)\n",
    "    elif F == 2:\n",
    "        n = int(input()) # getting the size of the filter\n",
    "        sigma = float(input())\n",
    "        \n",
    "        return constrained_least_squares(n,sigma)"
   ]
  },
  {
   "cell_type": "code",
   "execution_count": null,
   "id": "8c2c2a9c",
   "metadata": {},
   "outputs": [],
   "source": [
    "def clipping(img):\n",
    "    \"\"\"\n",
    "    This function ...\n",
    "    \n",
    "    Parameters\n",
    "    ----------\n",
    "    img : uint8 array\n",
    "        The image array\n",
    "    \"\"\"\n",
    "    print()"
   ]
  },
  {
   "cell_type": "code",
   "execution_count": null,
   "id": "7a2fe5d8",
   "metadata": {},
   "outputs": [],
   "source": [
    "def rmse_compare(f,g):\n",
    "    \"\"\"\n",
    "    This function compare images through Root Mean Squared Error (RMSE). \n",
    "    The higher the SRE, the greater the difference betweenthe images.\n",
    "    \n",
    "    Parameters\n",
    "    ----------\n",
    "    img_a : array\n",
    "        The first image array\n",
    "    img_b : array\n",
    "        The second image array\n",
    "    \"\"\"\n",
    "    \n",
    "    # getting images resolution \n",
    "    N,M = f.shape # both images have the same size\n",
    "    \n",
    "    # converting the matrices to int32, allowing negative difference\n",
    "    f = f.astype(np.int32)\n",
    "    g = g.astype(np.int32)\n",
    "    \n",
    "    # computing rsme\n",
    "    rmse = np.sum(np.square(f-g))\n",
    "    rmse = math.sqrt(rmse / (N*M))\n",
    "\n",
    "    return rmse"
   ]
  },
  {
   "cell_type": "code",
   "execution_count": null,
   "id": "6cda6f84",
   "metadata": {},
   "outputs": [],
   "source": [
    "def image_restoration():\n",
    "    \"\"\"\n",
    "    This function ...\n",
    "    \n",
    "    Inputs (in this order)\n",
    "    ----------------------\n",
    "    ref_img : string\n",
    "        The filename for the reference image\n",
    "    deg_img : string\n",
    "        The filename for the degraded image\n",
    "    F : int\n",
    "        The type of filter to perform image restoration (1 (denoising) or 2 (constrained l.s.))\n",
    "    gamma : int\n",
    "        The parameter used by either filter\n",
    "    \"\"\"\n",
    "    \n",
    "    # getting input parameters\n",
    "    ref = str(input().rstrip())\n",
    "    deg = str(input().rstrip())\n",
    "    F = int(input())\n",
    "    gamma = float(input())\n",
    "    \n",
    "    # reading images as uint8 array\n",
    "    ref_img = imageio.imread(ref)\n",
    "    deg_img = imageio.imread(deg)\n",
    "    \n",
    "    res_img = restore(deg_img,F,gamma) # applying restoration method in degraded image\n",
    "    print(rmse_compare(ref_img, res_img)) # comparing through rmse value"
   ]
  },
  {
   "cell_type": "code",
   "execution_count": null,
   "id": "27ffd7f0",
   "metadata": {
    "scrolled": true
   },
   "outputs": [],
   "source": [
    "if __name__ == \"__main__\":\n",
    "    image_restoration()"
   ]
  },
  {
   "cell_type": "code",
   "execution_count": null,
   "id": "69df350b",
   "metadata": {},
   "outputs": [],
   "source": []
  }
 ],
 "metadata": {
  "kernelspec": {
   "display_name": "Python 3",
   "language": "python",
   "name": "python3"
  },
  "language_info": {
   "codemirror_mode": {
    "name": "ipython",
    "version": 3
   },
   "file_extension": ".py",
   "mimetype": "text/x-python",
   "name": "python",
   "nbconvert_exporter": "python",
   "pygments_lexer": "ipython3",
   "version": "3.9.5"
  }
 },
 "nbformat": 4,
 "nbformat_minor": 5
}
