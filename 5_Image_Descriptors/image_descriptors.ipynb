{
 "cells": [
  {
   "cell_type": "code",
   "execution_count": 1,
   "id": "5a17145e",
   "metadata": {},
   "outputs": [],
   "source": [
    "# Trabalho 4 - Image Restoration\n",
    "# SCC0251 - Image Processing (01/2021)\n",
    "# Fabiana Dalacqua Mendes - 9894536\n",
    "# Pedro Henrique Nieuwenhoff - 10377729\n",
    "import numpy as np\n",
    "import imageio\n",
    "import math"
   ]
  },
  {
   "cell_type": "code",
   "execution_count": 2,
   "id": "1eb7afbc",
   "metadata": {},
   "outputs": [],
   "source": [
    "import matplotlib.pyplot as plt"
   ]
  },
  {
   "cell_type": "code",
   "execution_count": 7,
   "id": "cfcb695f",
   "metadata": {},
   "outputs": [],
   "source": [
    "def normalized_histogram(img,b):\n",
    "    n,m,z = img.shape\n",
    "    k = 2**b # level of intensity (or color)  \n",
    "    \n",
    "    dc = np.zeros(k, dtype=int)\n",
    "\n",
    "    for i in range(k):\n",
    "        dc[i] = np.sum(img == i) / n*m # h(k) / total number of pixels in image\n",
    "\n",
    "    dc = dc / np.linalg.norm(dc)\n",
    "    \n",
    "    return dc"
   ]
  },
  {
   "cell_type": "code",
   "execution_count": 4,
   "id": "ed9a1da5",
   "metadata": {},
   "outputs": [],
   "source": [
    "def quantization(img,b): # tem algo errado aqui\n",
    "    img = np.array(img, copy=True).astype(np.uint8)\n",
    "    B = 8 - b # bitwise shift\n",
    "    return img >> B # shift right\n",
    "\n",
    "def normalize_minmax(f, factor):\n",
    "    f_min = np.min(f)\n",
    "    f_max = np.max(f)\n",
    "    f = (f - f_min)/(f_max-f_min)\n",
    "    return (f*factor)\n",
    "\n",
    "def luminance(img):\n",
    "    img = np.array(img, copy=True).astype(float)\n",
    "    # computing conversion\n",
    "    new_img = np.zeros((img.shape[0], img.shape[1]))\n",
    "    new_img = img[:,:,0]*0.299 + img[:,:,1]*0.587 + img[:,:,2]*0.114\n",
    "    new_img = normalize_minmax(new_img, 255)\n",
    "    return new_img"
   ]
  },
  {
   "cell_type": "code",
   "execution_count": 5,
   "id": "6cda6f84",
   "metadata": {},
   "outputs": [],
   "source": [
    "def image_descriptors():\n",
    "    \"\"\"\n",
    "    Inputs (in this order)\n",
    "    ----------------------\n",
    "    obj_filename : string\n",
    "        The ilename for the image with the object\n",
    "    img_filename : string\n",
    "        The filename for the larger imageg,\n",
    "    b : int\n",
    "        The number of bits after quantisation\n",
    "    \"\"\"\n",
    "    \n",
    "    # getting input parameters\n",
    "    obj_filename = str(input().rstrip())\n",
    "    #img_filename = str(input().rstrip())\n",
    "    b = int(input())\n",
    "    \n",
    "    # reading images as uint8 array\n",
    "    obj_img = imageio.imread(obj_filename)\n",
    "    #img = imageio.imread(img_filename)\n",
    "    \n",
    "    new_img = luminance(obj_img)\n",
    "    new_img = quantization(obj_img,b)\n",
    "    dc = normalized_histogram(obj_img,b)\n",
    "    \n",
    "    print(dc)\n",
    "    \n",
    "    plt.imshow(new_img,cmap=\"gray\")\n",
    "    "
   ]
  },
  {
   "cell_type": "code",
   "execution_count": 8,
   "id": "27ffd7f0",
   "metadata": {
    "scrolled": true
   },
   "outputs": [
    {
     "name": "stdout",
     "output_type": "stream",
     "text": [
      "imgs/wally.png\n",
      "3\n",
      "[0.45226702 0.15075567 0.30151134 0.         0.45226702 0.30151134\n",
      " 0.15075567 0.60302269]\n"
     ]
    },
    {
     "data": {
      "image/png": "[encoded data removed]",
      "text/plain": [
       "<Figure size 432x288 with 1 Axes>"
      ]
     },
     "metadata": {
      "needs_background": "light"
     },
     "output_type": "display_data"
    }
   ],
   "source": [
    "if __name__ == \"__main__\":\n",
    "    image_descriptors()"
   ]
  },
  {
   "cell_type": "code",
   "execution_count": null,
   "id": "801e640b",
   "metadata": {},
   "outputs": [],
   "source": [
    "\"\"\"\n",
    "imgs/wally.png\n",
    "imgs/wheres_wally.png\n",
    "3\"\"\""
   ]
  },
  {
   "cell_type": "code",
   "execution_count": null,
   "id": "df5daedd",
   "metadata": {},
   "outputs": [],
   "source": []
  }
 ],
 "metadata": {
  "kernelspec": {
   "display_name": "Python 3",
   "language": "python",
   "name": "python3"
  },
  "language_info": {
   "codemirror_mode": {
    "name": "ipython",
    "version": 3
   },
   "file_extension": ".py",
   "mimetype": "text/x-python",
   "name": "python",
   "nbconvert_exporter": "python",
   "pygments_lexer": "ipython3",
   "version": "3.9.5"
  }
 },
 "nbformat": 4,
 "nbformat_minor": 5
}
