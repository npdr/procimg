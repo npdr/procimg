{
 "cells": [
  {
   "cell_type": "code",
   "execution_count": 1,
   "id": "3ee5ad6f",
   "metadata": {},
   "outputs": [],
   "source": [
    "# Trabalho 1 - Geração de imagens\n",
    "# SCC0251 - Image Processing (01/2021)\n",
    "# Fabiana Dalacqua - \n",
    "# Pedro Henrique Nieuwenhoff - 10377729\n",
    "import numpy as np\n",
    "import numpy.random\n",
    "import imageio\n",
    "import matplotlib.pyplot as plt"
   ]
  },
  {
   "cell_type": "code",
   "execution_count": 15,
   "id": "afcd3c3c",
   "metadata": {},
   "outputs": [
    {
     "name": "stdout",
     "output_type": "stream",
     "text": [
      "erre\n",
      "1\n",
      "2\n",
      "3\n",
      "4\n",
      "5\n",
      "6\n"
     ]
    }
   ],
   "source": [
    "r = str(input()) # nome do arquivo contendo a imagem de referênciar\n",
    "C = int(input()) # tamanho lateral da imagem sintetizada C(assuma que a imagem é quadrada e que seu tamanho é CxC)\n",
    "F = int(input()) # a função F que será usada para geração\n",
    "Q = int(input()) # o parâmetro Q, usado para geração de imagens\n",
    "N = int(input()) # o tamanho lateralNda imagem amostrada, onde N<=C\n",
    "B = int(input()) # número de bits por pixel B, com 1<=B<=8\n",
    "S = int(input()) # seed S para ser usado com as funções aleatórias"
   ]
  },
  {
   "cell_type": "code",
   "execution_count": 33,
   "id": "12c83d2e",
   "metadata": {},
   "outputs": [],
   "source": [
    "# definindo a seed das funções aleatórias\n",
    "np.random.seed(S)"
   ]
  },
  {
   "cell_type": "code",
   "execution_count": 34,
   "id": "7f54b351",
   "metadata": {},
   "outputs": [],
   "source": [
    "# definição das funções geradoras das imagens\n",
    "def function_1(x,y):\n",
    "    return (x*y + 2*y)\n",
    "\n",
    "def function_2(x,y):\n",
    "    return abs(np.cos(x/Q) + 2*np.sin(y/Q))\n",
    "\n",
    "def function_3(x,y):\n",
    "    return abs(3*(x/Q) - np.cbrt(y/Q))\n",
    "    \n",
    "def function_4():\n",
    "    return np.random.rand()\n",
    "\n",
    "def function_5(x,y):\n",
    "    return 1"
   ]
  },
  {
   "cell_type": "code",
   "execution_count": null,
   "id": "102b597a",
   "metadata": {},
   "outputs": [],
   "source": []
  }
 ],
 "metadata": {
  "kernelspec": {
   "display_name": "Python 3",
   "language": "python",
   "name": "python3"
  },
  "language_info": {
   "codemirror_mode": {
    "name": "ipython",
    "version": 3
   },
   "file_extension": ".py",
   "mimetype": "text/x-python",
   "name": "python",
   "nbconvert_exporter": "python",
   "pygments_lexer": "ipython3",
   "version": "3.8.5"
  }
 },
 "nbformat": 4,
 "nbformat_minor": 5
}
