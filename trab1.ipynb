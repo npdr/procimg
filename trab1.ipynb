{
 "cells": [
  {
   "cell_type": "code",
   "execution_count": 3,
   "id": "3ee5ad6f",
   "metadata": {},
   "outputs": [],
   "source": [
    "# Trabalho 1 - Geração de imagens\n",
    "# SCC0251 - Image Processing (01/2021)\n",
    "# Fabiana Dalacqua - \n",
    "# Pedro Henrique Nieuwenhoff - 10377729\n",
    "import numpy as np\n",
    "import numpy.random\n",
    "import imageio\n",
    "import matplotlib.pyplot as plt\n",
    "np.set_printoptions(suppress=True)"
   ]
  },
  {
   "cell_type": "code",
   "execution_count": 62,
   "id": "afcd3c3c",
   "metadata": {},
   "outputs": [
    {
     "name": "stdout",
     "output_type": "stream",
     "text": [
      "ex1.npy\n",
      "512\n",
      "1\n",
      "2\n",
      "256\n",
      "4\n",
      "1\n"
     ]
    }
   ],
   "source": [
    "r = str(input()) # nome do arquivo contendo a imagem de referência\n",
    "C = int(input()) # tamanho lateral da imagem sintetizada C(assuma que a imagem é quadrada e que seu tamanho é CxC)\n",
    "F = int(input()) # a função F que será usada para geração\n",
    "Q = int(input()) # o parâmetro Q, usado para geração de imagens\n",
    "N = int(input()) # o tamanho lateralNda imagem amostrada, onde N<=C\n",
    "B = int(input()) # número de bits por pixel B, com 1<=B<=8\n",
    "S = int(input()) # seed S para ser usado com as funções aleatórias"
   ]
  },
  {
   "cell_type": "code",
   "execution_count": 72,
   "id": "12c83d2e",
   "metadata": {},
   "outputs": [],
   "source": [
    "# definindo a seed das funções aleatórias\n",
    "np.random.seed(S)"
   ]
  },
  {
   "cell_type": "code",
   "execution_count": 73,
   "id": "7f54b351",
   "metadata": {},
   "outputs": [],
   "source": [
    "# definição das funções geradoras das imagens\n",
    "def function_1(x,y):\n",
    "    return (x*y + 2*y)\n",
    "\n",
    "def function_2(x,y):\n",
    "    return abs(np.cos(x/Q) + 2*np.sin(y/Q))\n",
    "\n",
    "def function_3(x,y):\n",
    "    return abs(3*(x/Q) - np.cbrt(y/Q))\n",
    "    \n",
    "def function_4():\n",
    "    return np.random.rand()\n",
    "\n",
    "def function_5(x,dx):\n",
    "    return (x + dx)%C"
   ]
  },
  {
   "cell_type": "code",
   "execution_count": 77,
   "id": "77a02de6",
   "metadata": {},
   "outputs": [],
   "source": [
    "r_array = np.load(r) # carrega a imagem de referência\n",
    "img_sint = np.zeros((C,C), float) # imagem sintetizada inicial (tudo zero)"
   ]
  },
  {
   "cell_type": "code",
   "execution_count": 78,
   "id": "b2d9b49f",
   "metadata": {},
   "outputs": [
    {
     "name": "stdout",
     "output_type": "stream",
     "text": [
      "(512, 512)\n"
     ]
    },
    {
     "data": {
      "text/plain": [
       "<matplotlib.image.AxesImage at 0x7f309982bc70>"
      ]
     },
     "execution_count": 78,
     "metadata": {},
     "output_type": "execute_result"
    },
    {
     "data": {
      "image/png": "[encoded data removed]",
      "text/plain": [
       "<Figure size 432x288 with 1 Axes>"
      ]
     },
     "metadata": {
      "needs_background": "light"
     },
     "output_type": "display_data"
    }
   ],
   "source": [
    "if F == 1:\n",
    "    for x in range(C):\n",
    "        for y in range(C):\n",
    "            img_sint[x,y] = function_1(x,y)\n",
    "elif F == 2:\n",
    "    for x in range(C):\n",
    "        for y in range(C):\n",
    "            img_sint[x,y] = function_2(x,y)\n",
    "elif F == 3:\n",
    "    for x in range(C):\n",
    "        for y in range(C):\n",
    "            img_sint[x,y] = function_3(x,y)\n",
    "elif F == 4:\n",
    "    for y in range(C):\n",
    "        for x in range(C):\n",
    "            img_sint[x,y] = function_4()\n",
    "else:\n",
    "    img_sint[0,0] = 1\n",
    "    for i in range(1+np.power(C,2)):\n",
    "        dx = np.random.randint(-1,1)\n",
    "        dy = np.random.randint(-1,1)\n",
    "        img_sint[function_5(x,dx), function_5(y,dy)] = 1\n",
    "            \n",
    "print(img_sint.shape)\n",
    "plt.imshow(img_sint, cmap=\"gray\") #mostra a imagem\n"
   ]
  },
  {
   "cell_type": "code",
   "execution_count": 79,
   "id": "2a32d87a",
   "metadata": {},
   "outputs": [
    {
     "name": "stdout",
     "output_type": "stream",
     "text": [
      "[[     0.      4.      8. ...   1012.   1016.   1020.]\n",
      " [     0.      8.     16. ...   2024.   2032.   2040.]\n",
      " [     0.     12.     24. ...   3036.   3048.   3060.]\n",
      " ...\n",
      " [     0.   1016.   2032. ... 257048. 258064. 259080.]\n",
      " [     0.   1020.   2040. ... 258060. 259080. 260100.]\n",
      " [     0.   1024.   2048. ... 259072. 260096. 261120.]]\n",
      "(256, 256)\n"
     ]
    },
    {
     "data": {
      "text/plain": [
       "<matplotlib.image.AxesImage at 0x7f30998141f0>"
      ]
     },
     "execution_count": 79,
     "metadata": {},
     "output_type": "execute_result"
    },
    {
     "data": {
      "image/png": "[encoded data removed]",
      "text/plain": [
       "<Figure size 432x288 with 1 Axes>"
      ]
     },
     "metadata": {
      "needs_background": "light"
     },
     "output_type": "display_data"
    }
   ],
   "source": [
    "# downsampling\n",
    "def downsampling(img):\n",
    "    dim_sampling = N\n",
    "    img_sampling = np.zeros((dim_sampling,dim_sampling))\n",
    "    \n",
    "    x = 0\n",
    "    for x_sampling in range(dim_sampling):\n",
    "        y = 0\n",
    "        for y_sampling in range(dim_sampling):\n",
    "            img_sampling[x_sampling,y_sampling] = img[x,y]\n",
    "            y += int(C/N)\n",
    "        \n",
    "        y -= int(C/N)\n",
    "        img_sampling[x_sampling,y_sampling] = img[x,y]\n",
    "        x += int(C/N)\n",
    "        \n",
    "    return img_sampling\n",
    "\n",
    "\n",
    "img_sint = downsampling(img_sint)\n",
    "print(img_sint)\n",
    "print(img_sint.shape)\n",
    "plt.imshow(img_sint, cmap=\"gray\") #mostra a imagem\n"
   ]
  },
  {
   "cell_type": "code",
   "execution_count": null,
   "id": "8d42fed6",
   "metadata": {},
   "outputs": [],
   "source": []
  },
  {
   "cell_type": "code",
   "execution_count": null,
   "id": "f5d9c018",
   "metadata": {},
   "outputs": [],
   "source": []
  }
 ],
 "metadata": {
  "kernelspec": {
   "display_name": "Python 3",
   "language": "python",
   "name": "python3"
  },
  "language_info": {
   "codemirror_mode": {
    "name": "ipython",
    "version": 3
   },
   "file_extension": ".py",
   "mimetype": "text/x-python",
   "name": "python",
   "nbconvert_exporter": "python",
   "pygments_lexer": "ipython3",
   "version": "3.8.5"
  }
 },
 "nbformat": 4,
 "nbformat_minor": 5
}
